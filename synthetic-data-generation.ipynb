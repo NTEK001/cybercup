{
 "cells": [
  {
   "cell_type": "code",
   "id": "initial_id",
   "metadata": {
    "collapsed": true,
    "ExecuteTime": {
     "end_time": "2024-10-18T11:53:00.233491Z",
     "start_time": "2024-10-18T11:52:59.804459Z"
    }
   },
   "source": [
    "import pandas as pd\n",
    "import numpy as np\n",
    "from datetime import timedelta\n",
    "\n",
    "# Generate timestamp data: 14 days, 15-min intervals\n",
    "dates = pd.date_range(start=\"2024-10-01\", end=\"2024-10-14\", freq=\"1min\")\n",
    "\n",
    "# Custom function: Add weekday/weekend patterns\n",
    "def generate_usage(base, variation, size, peak_hours=None):\n",
    "    usage = np.random.normal(base, variation, size)\n",
    "    if peak_hours:\n",
    "        # Add higher usage for specific hours (e.g., 9am-5pm)\n",
    "        peak_indices = np.where((dates.hour >= peak_hours[0]) & (dates.hour < peak_hours[1]))\n",
    "        usage[peak_indices] += np.random.normal(10, 5, len(peak_indices[0]))\n",
    "    return np.clip(usage, 0, 100)  # Ensure values are between 0 and 100\n",
    "\n",
    "# Simulate resource usage with daily patterns\n",
    "cpu_usage = generate_usage(base=30, variation=10, size=len(dates), peak_hours=(9, 17))\n",
    "memory_usage = generate_usage(base=60, variation=8, size=len(dates))\n",
    "network_bandwidth = np.clip(np.random.normal(500, 100, size=len(dates)), 100, 1000)  # In MBps\n",
    "\n",
    "# Add bursts of API requests to simulate peaks\n",
    "api_requests = np.clip(np.random.poisson(200, size=len(dates)), 50, 1500)\n",
    "spike_indices = np.random.choice(len(dates), size=50, replace=False)  # Random spikes\n",
    "api_requests[spike_indices] += np.random.randint(500, 1000, size=50)  # Burst of requests\n",
    "\n",
    "# Simulate concurrent users with lower activity on weekends\n",
    "day_of_week = dates.dayofweek  # Monday=0, Sunday=6\n",
    "concurrent_users = np.where(day_of_week < 5,  # Weekdays\n",
    "                            np.random.poisson(100, len(dates)),\n",
    "                            np.random.poisson(30, len(dates)))  # Weekends\n",
    "\n",
    "# Create a DataFrame\n",
    "data = pd.DataFrame({\n",
    "    \"timestamp\": dates,\n",
    "    \"cpu_usage\": cpu_usage,\n",
    "    \"memory_usage\": memory_usage,\n",
    "    \"network_bandwidth_mbps\": network_bandwidth,\n",
    "    \"api_requests_per_second\": api_requests,\n",
    "    \"concurrent_users\": concurrent_users\n",
    "})\n",
    "\n",
    "# Save to CSV with custom formatting\n",
    "data.to_csv(\"./Output_Data/test_synthetic_cloud_usage.csv\", index=False)\n",
    "print(\"Customized synthetic data generated!\")\n"
   ],
   "outputs": [
    {
     "name": "stdout",
     "output_type": "stream",
     "text": [
      "Customized synthetic data generated!\n"
     ]
    }
   ],
   "execution_count": 1
  },
  {
   "metadata": {
    "ExecuteTime": {
     "end_time": "2024-10-18T11:53:01.123134Z",
     "start_time": "2024-10-18T11:53:00.235431Z"
    }
   },
   "cell_type": "code",
   "source": [
    "from sklearn.preprocessing import StandardScaler\n",
    "import joblib\n",
    "\n",
    "# Select the features to normalize\n",
    "features = [\"cpu_usage\", \"memory_usage\", \"network_bandwidth_mbps\", \n",
    "            \"api_requests_per_second\", \"concurrent_users\"]\n",
    "\n",
    "# Initialize and fit the StandardScaler\n",
    "scaler = StandardScaler()\n",
    "data[features] = scaler.fit_transform(data[features])\n",
    "\n",
    "# Save the scaler for future use (important for predictions)\n",
    "joblib.dump(scaler, \"scaler.pkl\")\n",
    "\n",
    "# Display the first few rows of the normalized data\n",
    "print(data.head())\n",
    "\n",
    "# Optional: Save the normalized data to a new CSV file\n",
    "data.to_csv(\"./Output_Data/test_normalized_cloud_usage.csv\", index=False)\n",
    "print(\"Data normalized and saved!\")\n"
   ],
   "id": "eb472fdb0340833",
   "outputs": [
    {
     "name": "stdout",
     "output_type": "stream",
     "text": [
      "            timestamp  cpu_usage  memory_usage  network_bandwidth_mbps  \\\n",
      "0 2024-10-01 00:00:00  -0.154731     -0.348906               -0.848648   \n",
      "1 2024-10-01 00:01:00  -1.554808      0.759911                0.808344   \n",
      "2 2024-10-01 00:02:00   0.448196     -1.802395               -1.530230   \n",
      "3 2024-10-01 00:03:00   0.122359     -0.356820                0.083606   \n",
      "4 2024-10-01 00:04:00  -0.205188     -1.675004                1.301082   \n",
      "\n",
      "   api_requests_per_second  concurrent_users  \n",
      "0                -0.229902          0.522179  \n",
      "1                -0.046236          0.581881  \n",
      "2                 0.045596          0.760986  \n",
      "3                -0.138069          0.552030  \n",
      "4                 0.137429          1.417703  \n",
      "Data normalized and saved!\n"
     ]
    }
   ],
   "execution_count": 2
  },
  {
   "metadata": {
    "ExecuteTime": {
     "end_time": "2024-10-18T14:26:34.485939Z",
     "start_time": "2024-10-18T14:26:34.434666Z"
    }
   },
   "cell_type": "code",
   "source": [
    "# Load the scaler\n",
    "scaler = joblib.load(\"scaler.pkl\")\n",
    "\n",
    "# Get mean and standard deviation\n",
    "mean = scaler.mean_\n",
    "std = scaler.scale_\n",
    "\n",
    "print(\"Mean:\", mean)\n",
    "print(\"Standard Deviation:\", std)"
   ],
   "id": "7ca0646775dabd14",
   "outputs": [
    {
     "name": "stdout",
     "output_type": "stream",
     "text": [
      "Mean: [ 33.37259751  59.99191496 500.59977334 202.01394156  78.5070242 ]\n",
      "Standard Deviation: [ 11.39790946   7.98941626 100.1715581   43.55748615  33.49994346]\n"
     ]
    }
   ],
   "execution_count": 3
  },
  {
   "metadata": {},
   "cell_type": "code",
   "outputs": [],
   "execution_count": null,
   "source": "",
   "id": "e896062a367d56b3"
  }
 ],
 "metadata": {
  "kernelspec": {
   "display_name": "Python 3",
   "language": "python",
   "name": "python3"
  },
  "language_info": {
   "codemirror_mode": {
    "name": "ipython",
    "version": 2
   },
   "file_extension": ".py",
   "mimetype": "text/x-python",
   "name": "python",
   "nbconvert_exporter": "python",
   "pygments_lexer": "ipython2",
   "version": "2.7.6"
  }
 },
 "nbformat": 4,
 "nbformat_minor": 5
}
